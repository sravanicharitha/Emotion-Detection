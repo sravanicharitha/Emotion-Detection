{
 "cells": [
  {
   "cell_type": "code",
   "execution_count": 8,
   "id": "5af05832",
   "metadata": {},
   "outputs": [
    {
     "name": "stderr",
     "output_type": "stream",
     "text": [
      "Action: emotion: 100%|███████████████████████████████████████████████████████████████████| 1/1 [00:00<00:00,  5.60it/s]\n"
     ]
    },
    {
     "name": "stdout",
     "output_type": "stream",
     "text": [
      "[{'emotion': {'angry': 0.6001390408807421, 'disgust': 7.864770637229965e-07, 'fear': 0.1642890256033257, 'happy': 3.220777294770288e-05, 'sad': 3.9571779344783984, 'surprise': 1.1845011900129248e-06, 'neutral': 95.27835817804088}, 'dominant_emotion': 'neutral', 'region': {'x': 367, 'y': 232, 'w': 203, 'h': 203}}]\n",
      "neutral\n"
     ]
    },
    {
     "name": "stderr",
     "output_type": "stream",
     "text": [
      "Action: emotion: 100%|███████████████████████████████████████████████████████████████████| 1/1 [00:00<00:00,  6.23it/s]\n"
     ]
    },
    {
     "name": "stdout",
     "output_type": "stream",
     "text": [
      "[{'emotion': {'angry': 0.060321766753302024, 'disgust': 1.768007845591944e-07, 'fear': 0.18720133181743812, 'happy': 0.0023464602725449552, 'sad': 0.6698470030633809, 'surprise': 1.8638879995721835e-06, 'neutral': 99.08028239490285}, 'dominant_emotion': 'neutral', 'region': {'x': 306, 'y': 203, 'w': 198, 'h': 198}}]\n",
      "neutral\n"
     ]
    },
    {
     "name": "stderr",
     "output_type": "stream",
     "text": [
      "Action: emotion: 100%|███████████████████████████████████████████████████████████████████| 1/1 [00:00<00:00,  6.57it/s]\n"
     ]
    },
    {
     "name": "stdout",
     "output_type": "stream",
     "text": [
      "[{'emotion': {'angry': 0.003431605364312418, 'disgust': 1.195134594587921e-10, 'fear': 0.0014209771507012192, 'happy': 0.00023972679628059268, 'sad': 0.010302029113518074, 'surprise': 2.1405038808097743e-05, 'neutral': 99.98458623886108}, 'dominant_emotion': 'neutral', 'region': {'x': 323, 'y': 207, 'w': 199, 'h': 199}}]\n",
      "neutral\n"
     ]
    },
    {
     "name": "stderr",
     "output_type": "stream",
     "text": [
      "Action: emotion: 100%|███████████████████████████████████████████████████████████████████| 1/1 [00:00<00:00,  6.64it/s]\n"
     ]
    },
    {
     "name": "stdout",
     "output_type": "stream",
     "text": [
      "[{'emotion': {'angry': 8.464947427455627e-05, 'disgust': 3.7362606362728243e-13, 'fear': 0.00017682554016573704, 'happy': 0.016395855345763266, 'sad': 4.496085637128999e-05, 'surprise': 0.003069604281336069, 'neutral': 99.980229139328}, 'dominant_emotion': 'neutral', 'region': {'x': 325, 'y': 211, 'w': 205, 'h': 205}}]\n",
      "neutral\n"
     ]
    },
    {
     "name": "stderr",
     "output_type": "stream",
     "text": [
      "Action: emotion: 100%|███████████████████████████████████████████████████████████████████| 1/1 [00:00<00:00,  5.80it/s]\n"
     ]
    },
    {
     "name": "stdout",
     "output_type": "stream",
     "text": [
      "[{'emotion': {'angry': 0.00011031921758331009, 'disgust': 4.89852240056197e-13, 'fear': 0.000438379311162862, 'happy': 5.323166400194168, 'sad': 2.2325990300942067e-05, 'surprise': 0.0730969593860209, 'neutral': 94.60316300392151}, 'dominant_emotion': 'neutral', 'region': {'x': 325, 'y': 211, 'w': 207, 'h': 207}}]\n",
      "neutral\n"
     ]
    },
    {
     "name": "stderr",
     "output_type": "stream",
     "text": [
      "Action: emotion: 100%|███████████████████████████████████████████████████████████████████| 1/1 [00:00<00:00,  6.84it/s]\n"
     ]
    },
    {
     "name": "stdout",
     "output_type": "stream",
     "text": [
      "[{'emotion': {'angry': 7.849726314989005e-06, 'disgust': 3.608554130653244e-16, 'fear': 4.295096801100466e-06, 'happy': 3.3935162126885904e-05, 'sad': 7.482782271282867e-05, 'surprise': 5.589258100869864e-06, 'neutral': 99.99987483023851}, 'dominant_emotion': 'neutral', 'region': {'x': 326, 'y': 212, 'w': 205, 'h': 205}}]\n",
      "neutral\n"
     ]
    },
    {
     "name": "stderr",
     "output_type": "stream",
     "text": [
      "Action: emotion: 100%|███████████████████████████████████████████████████████████████████| 1/1 [00:00<00:00,  6.73it/s]\n"
     ]
    },
    {
     "name": "stdout",
     "output_type": "stream",
     "text": [
      "[{'emotion': {'angry': 0.08120846082951595, 'disgust': 4.466816073000231e-06, 'fear': 1.1475389386667085, 'happy': 0.010839323821772403, 'sad': 0.2764848895463479, 'surprise': 0.0009696936766889034, 'neutral': 98.48294872248783}, 'dominant_emotion': 'neutral', 'region': {'x': 332, 'y': 217, 'w': 199, 'h': 199}}]\n",
      "neutral\n"
     ]
    },
    {
     "name": "stderr",
     "output_type": "stream",
     "text": [
      "Action: emotion: 100%|███████████████████████████████████████████████████████████████████| 1/1 [00:00<00:00,  5.85it/s]\n"
     ]
    },
    {
     "name": "stdout",
     "output_type": "stream",
     "text": [
      "[{'emotion': {'angry': 0.001960347552515793, 'disgust': 1.4894154506532676e-10, 'fear': 0.004627382352973773, 'happy': 2.397416808086844e-05, 'sad': 0.03132565366555176, 'surprise': 1.0894246510329449e-05, 'neutral': 99.9620497204095}, 'dominant_emotion': 'neutral', 'region': {'x': 335, 'y': 218, 'w': 201, 'h': 201}}]\n",
      "neutral\n"
     ]
    },
    {
     "name": "stderr",
     "output_type": "stream",
     "text": [
      "Action: emotion: 100%|███████████████████████████████████████████████████████████████████| 1/1 [00:00<00:00,  7.04it/s]\n"
     ]
    },
    {
     "name": "stdout",
     "output_type": "stream",
     "text": [
      "[{'emotion': {'angry': 0.010970126385416917, 'disgust': 1.098090434085465e-10, 'fear': 0.03935575021316112, 'happy': 0.0010893327920625906, 'sad': 0.006643673655525887, 'surprise': 4.925139203600268e-05, 'neutral': 99.94189142834493}, 'dominant_emotion': 'neutral', 'region': {'x': 351, 'y': 225, 'w': 209, 'h': 209}}]\n",
      "neutral\n"
     ]
    },
    {
     "name": "stderr",
     "output_type": "stream",
     "text": [
      "Action: emotion: 100%|███████████████████████████████████████████████████████████████████| 1/1 [00:00<00:00,  6.26it/s]\n"
     ]
    },
    {
     "name": "stdout",
     "output_type": "stream",
     "text": [
      "[{'emotion': {'angry': 0.004155212445766665, 'disgust': 7.32199283842716e-10, 'fear': 0.0033819447708083317, 'happy': 0.04340012965258211, 'sad': 0.011417690257076174, 'surprise': 0.0001741252162901219, 'neutral': 99.93746876716614}, 'dominant_emotion': 'neutral', 'region': {'x': 348, 'y': 222, 'w': 209, 'h': 209}}]\n",
      "neutral\n"
     ]
    },
    {
     "name": "stderr",
     "output_type": "stream",
     "text": [
      "Action: emotion: 100%|███████████████████████████████████████████████████████████████████| 1/1 [00:00<00:00,  5.19it/s]\n"
     ]
    },
    {
     "name": "stdout",
     "output_type": "stream",
     "text": [
      "[{'emotion': {'angry': 0.019489278201945126, 'disgust': 1.9722400795840755e-09, 'fear': 0.0010894375009229407, 'happy': 0.09985229698941112, 'sad': 0.020717736333608627, 'surprise': 0.00016294011402351316, 'neutral': 99.8586893081665}, 'dominant_emotion': 'neutral', 'region': {'x': 347, 'y': 224, 'w': 208, 'h': 208}}]\n",
      "neutral\n"
     ]
    },
    {
     "name": "stderr",
     "output_type": "stream",
     "text": [
      "Action: emotion: 100%|███████████████████████████████████████████████████████████████████| 1/1 [00:00<00:00,  6.47it/s]\n"
     ]
    },
    {
     "name": "stdout",
     "output_type": "stream",
     "text": [
      "[{'emotion': {'angry': 0.0016256630260613747, 'disgust': 8.46835283645729e-12, 'fear': 0.006195076275616884, 'happy': 0.0015521951354457997, 'sad': 0.0016056192180258222, 'surprise': 6.534655199175177e-05, 'neutral': 99.9889612197876}, 'dominant_emotion': 'neutral', 'region': {'x': 346, 'y': 224, 'w': 208, 'h': 208}}]\n",
      "neutral\n"
     ]
    },
    {
     "name": "stderr",
     "output_type": "stream",
     "text": [
      "Action: emotion: 100%|███████████████████████████████████████████████████████████████████| 1/1 [00:00<00:00,  5.56it/s]\n"
     ]
    },
    {
     "name": "stdout",
     "output_type": "stream",
     "text": [
      "[{'emotion': {'angry': 0.0052598986354265125, 'disgust': 4.1359467742537965e-14, 'fear': 0.0007076289941775508, 'happy': 2.9859346988155876e-06, 'sad': 0.03511134873213932, 'surprise': 1.0885969582572392e-05, 'neutral': 99.95890260232656}, 'dominant_emotion': 'neutral', 'region': {'x': 347, 'y': 223, 'w': 209, 'h': 209}}]\n",
      "neutral\n"
     ]
    },
    {
     "name": "stderr",
     "output_type": "stream",
     "text": [
      "Action: emotion: 100%|███████████████████████████████████████████████████████████████████| 1/1 [00:00<00:00,  5.49it/s]\n"
     ]
    },
    {
     "name": "stdout",
     "output_type": "stream",
     "text": [
      "[{'emotion': {'angry': 0.004854493818129413, 'disgust': 3.398381904118515e-12, 'fear': 0.0075524985732045025, 'happy': 5.184994122942044e-06, 'sad': 0.03905893536284566, 'surprise': 2.5631268840697885e-05, 'neutral': 99.94850158691406}, 'dominant_emotion': 'neutral', 'region': {'x': 346, 'y': 226, 'w': 206, 'h': 206}}]\n",
      "neutral\n"
     ]
    },
    {
     "name": "stderr",
     "output_type": "stream",
     "text": [
      "Action: emotion: 100%|███████████████████████████████████████████████████████████████████| 1/1 [00:00<00:00,  7.13it/s]\n"
     ]
    },
    {
     "name": "stdout",
     "output_type": "stream",
     "text": [
      "[{'emotion': {'angry': 0.004576663559419103, 'disgust': 2.8640672105950454e-13, 'fear': 0.0026878275093622506, 'happy': 2.5998163621920867e-06, 'sad': 0.05140285938978195, 'surprise': 4.860451241484043e-06, 'neutral': 99.9413251876831}, 'dominant_emotion': 'neutral', 'region': {'x': 343, 'y': 223, 'w': 212, 'h': 212}}]\n",
      "neutral\n"
     ]
    },
    {
     "name": "stderr",
     "output_type": "stream",
     "text": [
      "Action: emotion: 100%|███████████████████████████████████████████████████████████████████| 1/1 [00:00<00:00,  6.75it/s]\n"
     ]
    },
    {
     "name": "stdout",
     "output_type": "stream",
     "text": [
      "[{'emotion': {'angry': 0.0002988705724299342, 'disgust': 7.624417096108825e-12, 'fear': 5.055258344601872e-05, 'happy': 0.49326189939748644, 'sad': 0.0003737393167224398, 'surprise': 0.00045527838650480075, 'neutral': 99.50556156072388}, 'dominant_emotion': 'neutral', 'region': {'x': 342, 'y': 225, 'w': 208, 'h': 208}}]\n",
      "neutral\n"
     ]
    },
    {
     "name": "stderr",
     "output_type": "stream",
     "text": [
      "Action: emotion: 100%|███████████████████████████████████████████████████████████████████| 1/1 [00:00<00:00,  5.58it/s]\n"
     ]
    },
    {
     "name": "stdout",
     "output_type": "stream",
     "text": [
      "[{'emotion': {'angry': 1.857985369861126, 'disgust': 3.9668265730142593, 'fear': 24.31073635816574, 'happy': 0.004339730730862357, 'sad': 60.08502244949341, 'surprise': 1.2774945545857008e-06, 'neutral': 9.77509319782257}, 'dominant_emotion': 'sad', 'region': {'x': 344, 'y': 227, 'w': 206, 'h': 206}}]\n",
      "sad\n"
     ]
    },
    {
     "name": "stderr",
     "output_type": "stream",
     "text": [
      "Action: emotion: 100%|███████████████████████████████████████████████████████████████████| 1/1 [00:00<00:00,  7.12it/s]\n"
     ]
    },
    {
     "name": "stdout",
     "output_type": "stream",
     "text": [
      "[{'emotion': {'angry': 0.0010850103535631206, 'disgust': 8.923133634980776e-12, 'fear': 6.0563723991435836e-05, 'happy': 0.07336410344578326, 'sad': 0.0004439173608261626, 'surprise': 0.0010791035492729861, 'neutral': 99.92396831512451}, 'dominant_emotion': 'neutral', 'region': {'x': 343, 'y': 225, 'w': 208, 'h': 208}}]\n",
      "neutral\n"
     ]
    },
    {
     "name": "stderr",
     "output_type": "stream",
     "text": [
      "Action: emotion: 100%|███████████████████████████████████████████████████████████████████| 1/1 [00:00<00:00,  5.18it/s]\n"
     ]
    },
    {
     "name": "stdout",
     "output_type": "stream",
     "text": [
      "[{'emotion': {'angry': 0.050717208068817854, 'disgust': 1.010640571230681e-07, 'fear': 0.04252463404554874, 'happy': 0.16793102258816361, 'sad': 0.01438434119336307, 'surprise': 0.0048839079681783915, 'neutral': 99.71956014633179}, 'dominant_emotion': 'neutral', 'region': {'x': 345, 'y': 227, 'w': 206, 'h': 206}}]\n",
      "neutral\n"
     ]
    },
    {
     "name": "stderr",
     "output_type": "stream",
     "text": [
      "Action: emotion: 100%|███████████████████████████████████████████████████████████████████| 1/1 [00:00<00:00,  6.69it/s]\n"
     ]
    },
    {
     "name": "stdout",
     "output_type": "stream",
     "text": [
      "[{'emotion': {'angry': 0.00027475225579109974, 'disgust': 6.330014328289723e-14, 'fear': 1.1208922501282359e-05, 'happy': 0.0002350961494812509, 'sad': 0.00015161399460339453, 'surprise': 4.327043541252351e-05, 'neutral': 99.9992847442627}, 'dominant_emotion': 'neutral', 'region': {'x': 347, 'y': 226, 'w': 205, 'h': 205}}]\n",
      "neutral\n"
     ]
    },
    {
     "name": "stderr",
     "output_type": "stream",
     "text": [
      "Action: emotion: 100%|███████████████████████████████████████████████████████████████████| 1/1 [00:00<00:00,  7.06it/s]\n"
     ]
    },
    {
     "name": "stdout",
     "output_type": "stream",
     "text": [
      "[{'emotion': {'angry': 0.0003445709331406767, 'disgust': 1.7155572078690903e-14, 'fear': 2.3901272076176398e-05, 'happy': 4.318655415342984e-05, 'sad': 0.00019526552277686398, 'surprise': 7.690623991959668e-05, 'neutral': 99.99931454654423}, 'dominant_emotion': 'neutral', 'region': {'x': 347, 'y': 224, 'w': 209, 'h': 209}}]\n",
      "neutral\n"
     ]
    },
    {
     "name": "stderr",
     "output_type": "stream",
     "text": [
      "Action: emotion: 100%|███████████████████████████████████████████████████████████████████| 1/1 [00:00<00:00,  5.85it/s]\n"
     ]
    },
    {
     "name": "stdout",
     "output_type": "stream",
     "text": [
      "[{'emotion': {'angry': 0.001762638231441559, 'disgust': 7.614159641532285e-12, 'fear': 4.637515742477684e-05, 'happy': 0.3643845176708123, 'sad': 0.0003416652087096211, 'surprise': 0.003299992779408652, 'neutral': 99.6301650560099}, 'dominant_emotion': 'neutral', 'region': {'x': 346, 'y': 226, 'w': 205, 'h': 205}}]\n",
      "neutral\n"
     ]
    },
    {
     "name": "stderr",
     "output_type": "stream",
     "text": [
      "Action: emotion: 100%|███████████████████████████████████████████████████████████████████| 1/1 [00:00<00:00,  6.33it/s]\n"
     ]
    },
    {
     "name": "stdout",
     "output_type": "stream",
     "text": [
      "[{'emotion': {'angry': 0.005623428296530619, 'disgust': 2.992035872534382e-11, 'fear': 7.775924473207851e-05, 'happy': 0.11426708661019802, 'sad': 0.0012978600352653302, 'surprise': 0.001679562046774663, 'neutral': 99.8770534992218}, 'dominant_emotion': 'neutral', 'region': {'x': 344, 'y': 225, 'w': 209, 'h': 209}}]\n",
      "neutral\n"
     ]
    },
    {
     "name": "stderr",
     "output_type": "stream",
     "text": [
      "Action: emotion: 100%|███████████████████████████████████████████████████████████████████| 1/1 [00:00<00:00,  5.82it/s]\n"
     ]
    },
    {
     "name": "stdout",
     "output_type": "stream",
     "text": [
      "[{'emotion': {'angry': 0.0007363460977233952, 'disgust': 3.3550228230237263e-11, 'fear': 0.0002693081208224194, 'happy': 25.695347868841633, 'sad': 2.8466815234607934e-05, 'surprise': 0.0005092942653884329, 'neutral': 74.30311135090724}, 'dominant_emotion': 'neutral', 'region': {'x': 349, 'y': 226, 'w': 203, 'h': 203}}]\n",
      "neutral\n"
     ]
    },
    {
     "name": "stderr",
     "output_type": "stream",
     "text": [
      "Action: emotion: 100%|███████████████████████████████████████████████████████████████████| 1/1 [00:00<00:00,  4.94it/s]\n"
     ]
    },
    {
     "name": "stdout",
     "output_type": "stream",
     "text": [
      "[{'emotion': {'angry': 0.026566595025604666, 'disgust': 1.8364577620767213e-07, 'fear': 0.008747174955037606, 'happy': 0.10221101720026238, 'sad': 0.09940360333941002, 'surprise': 8.667068362233288e-05, 'neutral': 99.7629821159233}, 'dominant_emotion': 'neutral', 'region': {'x': 334, 'y': 212, 'w': 200, 'h': 200}}]\n",
      "neutral\n"
     ]
    },
    {
     "name": "stderr",
     "output_type": "stream",
     "text": [
      "Action: emotion: 100%|███████████████████████████████████████████████████████████████████| 1/1 [00:00<00:00,  7.17it/s]\n"
     ]
    },
    {
     "name": "stdout",
     "output_type": "stream",
     "text": [
      "[{'emotion': {'angry': 0.0012151267953694521, 'disgust': 2.5224388795751925e-11, 'fear': 0.40207537685926237, 'happy': 0.002891936147487418, 'sad': 0.11555058668323318, 'surprise': 0.013458201861800776, 'neutral': 99.46480399789762}, 'dominant_emotion': 'neutral', 'region': {'x': 310, 'y': 208, 'w': 205, 'h': 205}}]\n",
      "neutral\n"
     ]
    },
    {
     "name": "stderr",
     "output_type": "stream",
     "text": [
      "Action: emotion: 100%|███████████████████████████████████████████████████████████████████| 1/1 [00:00<00:00,  7.13it/s]\n"
     ]
    },
    {
     "name": "stdout",
     "output_type": "stream",
     "text": [
      "[{'emotion': {'angry': 0.02428389126822531, 'disgust': 1.3048358037850399e-11, 'fear': 0.14608569331563195, 'happy': 0.0066158215603091194, 'sad': 1.7963835690756358, 'surprise': 0.011924763418389748, 'neutral': 98.01470064941637}, 'dominant_emotion': 'neutral', 'region': {'x': 312, 'y': 211, 'w': 205, 'h': 205}}]\n",
      "neutral\n"
     ]
    },
    {
     "name": "stderr",
     "output_type": "stream",
     "text": [
      "Action: emotion: 100%|███████████████████████████████████████████████████████████████████| 1/1 [00:00<00:00,  6.26it/s]\n"
     ]
    },
    {
     "name": "stdout",
     "output_type": "stream",
     "text": [
      "[{'emotion': {'angry': 0.03486248606350273, 'disgust': 2.2859213572598916e-12, 'fear': 0.04346916975919157, 'happy': 0.010519580246182159, 'sad': 0.4118018317967653, 'surprise': 0.026496557984501123, 'neutral': 99.47285056114197}, 'dominant_emotion': 'neutral', 'region': {'x': 317, 'y': 219, 'w': 197, 'h': 197}}]\n",
      "neutral\n"
     ]
    },
    {
     "name": "stderr",
     "output_type": "stream",
     "text": [
      "Action: emotion: 100%|███████████████████████████████████████████████████████████████████| 1/1 [00:00<00:00,  7.15it/s]\n"
     ]
    },
    {
     "name": "stdout",
     "output_type": "stream",
     "text": [
      "[{'emotion': {'angry': 0.026665854697833394, 'disgust': 3.6488185506998075e-11, 'fear': 0.15519465565223625, 'happy': 0.004171571575374192, 'sad': 0.7179643102926838, 'surprise': 0.0028832017252106955, 'neutral': 99.0931154378515}, 'dominant_emotion': 'neutral', 'region': {'x': 319, 'y': 219, 'w': 194, 'h': 194}}]\n",
      "neutral\n"
     ]
    },
    {
     "name": "stderr",
     "output_type": "stream",
     "text": [
      "Action: emotion: 100%|███████████████████████████████████████████████████████████████████| 1/1 [00:00<00:00,  6.27it/s]\n"
     ]
    },
    {
     "name": "stdout",
     "output_type": "stream",
     "text": [
      "[{'emotion': {'angry': 0.005262352978886274, 'disgust': 6.5823785210885606e-12, 'fear': 0.0014751646570883004, 'happy': 4.006220331214819e-05, 'sad': 0.02054286841721009, 'surprise': 0.00032112101697746214, 'neutral': 99.97236132292286}, 'dominant_emotion': 'neutral', 'region': {'x': 317, 'y': 223, 'w': 196, 'h': 196}}]\n",
      "neutral\n",
      "no face found\n"
     ]
    },
    {
     "name": "stderr",
     "output_type": "stream",
     "text": [
      "Action: emotion: 100%|███████████████████████████████████████████████████████████████████| 1/1 [00:00<00:00,  6.74it/s]\n"
     ]
    },
    {
     "name": "stdout",
     "output_type": "stream",
     "text": [
      "[{'emotion': {'angry': 0.6843629293143749, 'disgust': 4.864173419605322e-06, 'fear': 3.6279328167438507, 'happy': 0.0019373117538634688, 'sad': 0.3133846912533045, 'surprise': 0.002352969750063494, 'neutral': 95.37002444267273}, 'dominant_emotion': 'neutral', 'region': {'x': 249, 'y': 223, 'w': 206, 'h': 206}}]\n",
      "neutral\n"
     ]
    },
    {
     "name": "stderr",
     "output_type": "stream",
     "text": [
      "Action: emotion: 100%|███████████████████████████████████████████████████████████████████| 1/1 [00:00<00:00,  5.67it/s]\n"
     ]
    },
    {
     "name": "stdout",
     "output_type": "stream",
     "text": [
      "[{'emotion': {'angry': 0.019536715699685556, 'disgust': 5.508756539955989e-10, 'fear': 0.01406429593927687, 'happy': 0.002654598369164668, 'sad': 0.6960880891882234, 'surprise': 1.5501553676503882e-05, 'neutral': 99.26764364645742}, 'dominant_emotion': 'neutral', 'region': {'x': 247, 'y': 223, 'w': 212, 'h': 212}}]\n",
      "neutral\n"
     ]
    },
    {
     "name": "stderr",
     "output_type": "stream",
     "text": [
      "Action: emotion: 100%|███████████████████████████████████████████████████████████████████| 1/1 [00:00<00:00,  7.12it/s]\n"
     ]
    },
    {
     "name": "stdout",
     "output_type": "stream",
     "text": [
      "[{'emotion': {'angry': 0.47940537333488464, 'disgust': 4.60007942848506e-07, 'fear': 1.6274580731987953, 'happy': 0.0036890909541398287, 'sad': 1.1524975299835205, 'surprise': 8.358688887710741e-05, 'neutral': 96.73686623573303}, 'dominant_emotion': 'neutral', 'region': {'x': 246, 'y': 224, 'w': 217, 'h': 217}}]\n",
      "neutral\n"
     ]
    },
    {
     "name": "stderr",
     "output_type": "stream",
     "text": [
      "Action: emotion: 100%|███████████████████████████████████████████████████████████████████| 1/1 [00:00<00:00,  5.86it/s]\n"
     ]
    },
    {
     "name": "stdout",
     "output_type": "stream",
     "text": [
      "[{'emotion': {'angry': 0.04116360214538872, 'disgust': 5.823744264610298e-11, 'fear': 0.04753044340759516, 'happy': 0.0021608793758787215, 'sad': 0.36966458428651094, 'surprise': 0.00013844821751263225, 'neutral': 99.53933954238892}, 'dominant_emotion': 'neutral', 'region': {'x': 247, 'y': 221, 'w': 218, 'h': 218}}]\n",
      "neutral\n"
     ]
    },
    {
     "name": "stderr",
     "output_type": "stream",
     "text": [
      "Action: emotion: 100%|███████████████████████████████████████████████████████████████████| 1/1 [00:00<00:00,  7.14it/s]\n"
     ]
    },
    {
     "name": "stdout",
     "output_type": "stream",
     "text": [
      "[{'emotion': {'angry': 0.061706521268205125, 'disgust': 1.002726946207926e-11, 'fear': 0.0011857592450814243, 'happy': 2.033277134617356e-05, 'sad': 0.12169637045689645, 'surprise': 1.4752929757879547e-07, 'neutral': 99.8153924831982}, 'dominant_emotion': 'neutral', 'region': {'x': 255, 'y': 221, 'w': 211, 'h': 211}}]\n",
      "neutral\n"
     ]
    },
    {
     "name": "stderr",
     "output_type": "stream",
     "text": [
      "Action: emotion: 100%|███████████████████████████████████████████████████████████████████| 1/1 [00:00<00:00,  7.71it/s]\n"
     ]
    },
    {
     "name": "stdout",
     "output_type": "stream",
     "text": [
      "[{'emotion': {'angry': 32.180240750312805, 'disgust': 0.0014086862393014599, 'fear': 17.10267812013626, 'happy': 0.000909477148525184, 'sad': 40.10778069496155, 'surprise': 0.0004914273631584365, 'neutral': 10.606494545936584}, 'dominant_emotion': 'sad', 'region': {'x': 249, 'y': 220, 'w': 219, 'h': 219}}]\n",
      "sad\n"
     ]
    },
    {
     "name": "stderr",
     "output_type": "stream",
     "text": [
      "Action: emotion: 100%|███████████████████████████████████████████████████████████████████| 1/1 [00:00<00:00,  5.12it/s]\n"
     ]
    },
    {
     "name": "stdout",
     "output_type": "stream",
     "text": [
      "[{'emotion': {'angry': 7.04602524638176, 'disgust': 0.0069363697548396885, 'fear': 49.414169788360596, 'happy': 0.0013336805750441272, 'sad': 37.30432689189911, 'surprise': 0.0002235430429209373, 'neutral': 6.226981431245804}, 'dominant_emotion': 'fear', 'region': {'x': 251, 'y': 221, 'w': 219, 'h': 219}}]\n",
      "fear\n"
     ]
    },
    {
     "name": "stderr",
     "output_type": "stream",
     "text": [
      "Action: emotion: 100%|███████████████████████████████████████████████████████████████████| 1/1 [00:00<00:00,  6.73it/s]\n"
     ]
    },
    {
     "name": "stdout",
     "output_type": "stream",
     "text": [
      "[{'emotion': {'angry': 1.3346035033464432, 'disgust': 6.903944083092028e-07, 'fear': 1.4237357303500175, 'happy': 0.00020943582512700232, 'sad': 19.635766744613647, 'surprise': 9.649475884998537e-06, 'neutral': 77.60567665100098}, 'dominant_emotion': 'neutral', 'region': {'x': 252, 'y': 223, 'w': 217, 'h': 217}}]\n",
      "neutral\n"
     ]
    },
    {
     "name": "stderr",
     "output_type": "stream",
     "text": [
      "Action: emotion: 100%|███████████████████████████████████████████████████████████████████| 1/1 [00:00<00:00,  6.70it/s]\n"
     ]
    },
    {
     "name": "stdout",
     "output_type": "stream",
     "text": [
      "[{'emotion': {'angry': 0.5591028369963169, 'disgust': 3.396868064609038e-08, 'fear': 0.38027167320251465, 'happy': 0.0008871970749169122, 'sad': 3.9304200559854507, 'surprise': 8.728632110432955e-05, 'neutral': 95.1292335987091}, 'dominant_emotion': 'neutral', 'region': {'x': 256, 'y': 225, 'w': 215, 'h': 215}}]\n",
      "neutral\n"
     ]
    },
    {
     "name": "stderr",
     "output_type": "stream",
     "text": [
      "Action: emotion: 100%|███████████████████████████████████████████████████████████████████| 1/1 [00:00<00:00,  5.80it/s]\n"
     ]
    },
    {
     "name": "stdout",
     "output_type": "stream",
     "text": [
      "[{'emotion': {'angry': 0.2966561699546969, 'disgust': 1.4633145571683002e-05, 'fear': 0.36139826173058015, 'happy': 0.19011612810672782, 'sad': 0.9449193990326644, 'surprise': 0.020732534615076677, 'neutral': 98.18615935013779}, 'dominant_emotion': 'neutral', 'region': {'x': 257, 'y': 223, 'w': 219, 'h': 219}}]\n",
      "neutral\n"
     ]
    },
    {
     "name": "stderr",
     "output_type": "stream",
     "text": [
      "Action: emotion: 100%|███████████████████████████████████████████████████████████████████| 1/1 [00:00<00:00,  6.70it/s]\n"
     ]
    },
    {
     "name": "stdout",
     "output_type": "stream",
     "text": [
      "[{'emotion': {'angry': 0.13529833655973236, 'disgust': 2.6280365859240545e-07, 'fear': 0.10345950653514188, 'happy': 0.006690095981972026, 'sad': 1.1566539778823879, 'surprise': 2.933723669544607e-06, 'neutral': 98.5978903057706}, 'dominant_emotion': 'neutral', 'region': {'x': 336, 'y': 215, 'w': 207, 'h': 207}}]\n",
      "neutral\n"
     ]
    },
    {
     "name": "stderr",
     "output_type": "stream",
     "text": [
      "Action: emotion: 100%|███████████████████████████████████████████████████████████████████| 1/1 [00:00<00:00,  6.59it/s]\n"
     ]
    },
    {
     "name": "stdout",
     "output_type": "stream",
     "text": [
      "[{'emotion': {'angry': 3.348201885819435, 'disgust': 0.009538243466522545, 'fear': 28.58661711215973, 'happy': 0.0006512228992505698, 'sad': 56.824326515197754, 'surprise': 0.0005998253527650377, 'neutral': 11.230061948299408}, 'dominant_emotion': 'sad', 'region': {'x': 410, 'y': 231, 'w': 198, 'h': 198}}]\n",
      "sad\n"
     ]
    },
    {
     "name": "stderr",
     "output_type": "stream",
     "text": [
      "Action: emotion: 100%|███████████████████████████████████████████████████████████████████| 1/1 [00:00<00:00,  6.58it/s]\n"
     ]
    },
    {
     "name": "stdout",
     "output_type": "stream",
     "text": [
      "[{'emotion': {'angry': 1.3196039013564587, 'disgust': 0.0001417288444827136, 'fear': 2.1197833120822906, 'happy': 0.023793723084963858, 'sad': 4.10156287252903, 'surprise': 0.005575034811045043, 'neutral': 92.42953658103943}, 'dominant_emotion': 'neutral', 'region': {'x': 392, 'y': 231, 'w': 198, 'h': 198}}]\n",
      "neutral\n"
     ]
    }
   ],
   "source": [
    "import cv2\n",
    "from deepface import DeepFace as dp\n",
    "import pylab as plt\n",
    "from deepface import DeepFace as dp\n",
    "facecade=cv2.CascadeClassifier(cv2.data.haarcascades+'haarcascade_frontalface_default.xml')\n",
    "font=cv2.FONT_HERSHEY_SIMPLEX\n",
    "def exp():\n",
    "    ret,frame=cap.read()\n",
    "    gray=cv2.cvtColor(frame,cv2.COLOR_BGR2GRAY)\n",
    "    faces=facecade.detectMultiScale(gray,1.1,4)\n",
    "    if(len(faces)!=0):\n",
    "        res=dp.analyze(frame,actions=['emotion'])\n",
    "        print(res)\n",
    "        for (x,y,w,h) in faces:\n",
    "            cv2.rectangle(frame,(x,y),(x+w,y+h),(0,255,0),1)\n",
    "            cv2.putText(frame,res[0]['dominant_emotion'],(x-10,y-10),font,3,(0,0,255),cv2.LINE_4)q\n",
    "        print(res[0]['dominant_emotion'])\n",
    "    cv2.imshow('testing emotions',frame)\n",
    "    \n",
    "cap=cv2.VideoCapture(0)\n",
    "while True:\n",
    "    try:\n",
    "        exp()\n",
    "    except:\n",
    "        print(\"no face found\")\n",
    "    if cv2.waitKey(1) & 0xFF==ord('q'):\n",
    "        break\n",
    "cap.release()\n",
    "cv2.destroyAllWindows()"
   ]
  },
  {
   "cell_type": "code",
   "execution_count": null,
   "id": "57af2a5b",
   "metadata": {},
   "outputs": [],
   "source": []
  }
 ],
 "metadata": {
  "kernelspec": {
   "display_name": "Python 3 (ipykernel)",
   "language": "python",
   "name": "python3"
  },
  "language_info": {
   "codemirror_mode": {
    "name": "ipython",
    "version": 3
   },
   "file_extension": ".py",
   "mimetype": "text/x-python",
   "name": "python",
   "nbconvert_exporter": "python",
   "pygments_lexer": "ipython3",
   "version": "3.9.13"
  }
 },
 "nbformat": 4,
 "nbformat_minor": 5
}
